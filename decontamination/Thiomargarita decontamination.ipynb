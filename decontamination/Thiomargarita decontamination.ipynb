{
 "cells": [
  {
   "cell_type": "code",
   "execution_count": 70,
   "id": "5ce18463",
   "metadata": {},
   "outputs": [
    {
     "data": {
      "text/plain": [
       "'python ~/Dropbox/workspace/PyBioSnippets/hiseq/compute_aindex.py -i /media/eternus1/nfs/projects/thiomargarita/reference/2926625205.fna -o /media/eternus1/nfs/projects/thiomargarita/reference/2926625205 -t fasta'"
      ]
     },
     "execution_count": 70,
     "metadata": {},
     "output_type": "execute_result"
    }
   ],
   "source": [
    "### Step 1. Build aindex over the reference genome\n",
    "\n",
    "ref_file = \"/media/eternus1/nfs/projects/thiomargarita/reference/2926625205.fna\"\n",
    "output_prefix = \"/media/eternus1/nfs/projects/thiomargarita/reference/2926625205\"\n",
    "command = f\"python ~/Dropbox/workspace/PyBioSnippets/hiseq/compute_aindex.py -i {ref_file} -o {output_prefix} -t fasta\"\n",
    "command\n"
   ]
  },
  {
   "cell_type": "code",
   "execution_count": 73,
   "id": "93541cf9",
   "metadata": {},
   "outputs": [],
   "source": [
    "### Step 2. Read all pairs from the raw data folder, we use trimmed data\n",
    "\n",
    "import PyExp\n",
    "\n",
    "data_folder = \"/media/eternus1/nfs/projects/thiomargarita/samples_data/\"\n",
    "\n",
    "all_files = {}\n",
    "for file_name in PyExp.sc_iter_filepath_folder(data_folder):\n",
    "    if not file_name.endswith(\"fastq\"):\n",
    "        continue\n",
    "    if not \"trim\" in file_name:\n",
    "        continue\n",
    "    name = file_name.split(\"/\")[-2]\n",
    "    if \"trim_1\" in file_name:\n",
    "        all_files.setdefault(name, [None, None])\n",
    "        all_files[name][0] = file_name\n",
    "        continue\n",
    "    if \"trim_2\" in file_name:\n",
    "        all_files.setdefault(name, [None, None])\n",
    "        all_files[name][1] = file_name\n",
    "        continue"
   ]
  },
  {
   "cell_type": "code",
   "execution_count": 75,
   "id": "2e4a0089",
   "metadata": {},
   "outputs": [
    {
     "name": "stdout",
     "output_type": "stream",
     "text": [
      "Computed: 80, to compute: 0\n"
     ]
    }
   ],
   "source": [
    "### Step 3. Create a list of task to compute\n",
    "\n",
    "import os\n",
    "\n",
    "command = \"time ~/Dropbox/workspace/PyBioSnippets/Pantheon/bin/V5_ref_cov_stats.exe %s %s %s 150 /media/eternus1/nfs/projects/thiomargarita/reference/2926625205.23.pf /media/eternus1/nfs/projects/thiomargarita/reference/2926625205.23\"\n",
    "output_pattern = \"/media/eternus1/nfs/projects/users/akomissarov/thiomag/stats/%s.covs\"\n",
    "compute_list_file = \"/media/eternus1/nfs/projects/users/akomissarov/thiomag/compute_list.list\"\n",
    "name2stat_file = {}\n",
    "done = 0\n",
    "total = 0\n",
    "\n",
    "do_gzip = False\n",
    "\n",
    "with open(compute_list_file, \"w\") as fw:\n",
    "\n",
    "    for name in all_files:\n",
    "        f1, f2 = all_files[name]\n",
    "        if f1 is None:\n",
    "            f1 = f2\n",
    "        if f2 is None:\n",
    "            f2 = f1\n",
    "        prev = name.split(\".fastq\")[0]\n",
    "        output_file = output_pattern % name\n",
    "        if os.path.isfile(output_file+\".cov.stat\"):\n",
    "            done += 1\n",
    "            name2stat_file[name] = output_file+\".cov.stat\"\n",
    "            continue\n",
    "        total += 1\n",
    "        cc = \"\"\n",
    "        if f1.endswith(\"gz\"):\n",
    "            cc += \"gzip -d %s; \" % f1\n",
    "            f1 = f1[:-3]\n",
    "        if f2.endswith(\"gz\"):\n",
    "            cc += \"gzip -d %s; \" % f2\n",
    "            f2 = f2[:-3]\n",
    "        cc += command % (f1, f2, output_file)\n",
    "        if do_gzip:\n",
    "            cc += \"; gzip -9 %s; \" % f1\n",
    "            cc += \"gzip -9 %s \" % f2\n",
    "        cc = cc.strip()\n",
    "        fw.write(f\"{cc}\\n\")\n",
    "    \n",
    "print(f\"Computed: {done}, to compute: {total}\")"
   ]
  },
  {
   "cell_type": "code",
   "execution_count": 76,
   "id": "0fadad4e",
   "metadata": {},
   "outputs": [
    {
     "data": {
      "text/plain": [
       "\"less /media/eternus1/nfs/projects/users/akomissarov/thiomag/compute_list.list | xargs -I{} -P 20 sh -c '{}'\""
      ]
     },
     "execution_count": 76,
     "metadata": {},
     "output_type": "execute_result"
    }
   ],
   "source": [
    "### Step 4. execute them\n",
    "\n",
    "command = \"\"\"less /media/eternus1/nfs/projects/users/akomissarov/thiomag/compute_list.list | xargs -I{} -P 20 sh -c '{}'\"\"\"\n",
    "command"
   ]
  },
  {
   "cell_type": "code",
   "execution_count": 67,
   "id": "01792fd4",
   "metadata": {},
   "outputs": [
    {
     "name": "stdout",
     "output_type": "stream",
     "text": [
      "0 1 2 3 4 5 6 7 8 9 10 11 12 13 14 15 16 17 18 19 20 21 22 23 24 25 26 27 28 29 30 31 32 33 34 35 36 37 38 39 40 41 42 43 44 45 46 47 48 49 50 51 52 53 54 55 56 57 58 59 60 61 62 63 64 65 66 67 68 69 70 71 72 73 74 75 76 77 78 79 "
     ]
    }
   ],
   "source": [
    "### Step 5. Parse data\n",
    "\n",
    "name2stats = {}\n",
    "for ii, name in enumerate(name2stat_file):\n",
    "    print(ii, end=\" \")\n",
    "    with open(name2stat_file[name]) as fh:\n",
    "        total = 0\n",
    "        zeros = 0\n",
    "        ones = 0\n",
    "        good_10 = 0\n",
    "        good_20 = 0\n",
    "        if name in name2stats:\n",
    "            continue\n",
    "        for line in fh:\n",
    "            d = list(map(int, line.strip().split(\"\\t\")))\n",
    "            total += 1\n",
    "            if d[3] == 0 and d[6] == 0:\n",
    "                zeros += 1\n",
    "                continue\n",
    "            if d[3] + d[6] > 0:\n",
    "                ones += 1\n",
    "            if d[3] + d[6] >= 10:\n",
    "                good_10 += 1\n",
    "            if d[3] + d[6] >= 20:\n",
    "                good_20 += 1\n",
    "        name2stats[name] = (total, zeros, ones, good_10, good_20)\n",
    "\n",
    "names = list(name2stats.keys())\n",
    "names.sort()"
   ]
  },
  {
   "cell_type": "code",
   "execution_count": 85,
   "id": "0ee07d1d",
   "metadata": {},
   "outputs": [
    {
     "name": "stdout",
     "output_type": "stream",
     "text": [
      "-rwxrwxrwx 1 2004 1901 17M Jul 15  2022 /media/eternus1/nfs/projects/thiomargarita/reference/2926625205.fna\r\n"
     ]
    }
   ],
   "source": [
    "!ls -hlrt /media/eternus1/nfs/projects/thiomargarita/reference/2926625205.fna"
   ]
  },
  {
   "cell_type": "code",
   "execution_count": 81,
   "id": "069bf2e4",
   "metadata": {},
   "outputs": [],
   "source": [
    "### Step 6. Create summary table, \n",
    "### after then it can be copied to any editor where you could replace \\s with \\t \n",
    "### and then you could copy paste to google spredsheet and then to google doc\n",
    "\n",
    "expected_genome_size = 17000000\n",
    "reads_length = 150\n",
    "k = 23\n",
    "number_of_kmers_per_pair = 2 * (reads_length - k + 1)\n",
    "number_of_reads_for_x1_coverage = expected_genome_size / number_of_kmers_per_pair\n"
   ]
  },
  {
   "cell_type": "code",
   "execution_count": 84,
   "id": "a754146a",
   "metadata": {},
   "outputs": [
    {
     "name": "stdout",
     "output_type": "stream",
     "text": [
      "SRR18713657\t99.77%\t3513bp\tx0.05\n",
      "SRR18713668\t99.11%\t32723bp\tx0.49\n",
      "SRR18713683\t97.06%\t45324bp\tx0.68\n",
      "SRR18713684\t99.76%\t3345bp\tx0.05\n",
      "SRR18713715\t99.69%\t5376bp\tx0.08\n",
      "SRR18713716\t99.99%\t214bp\tx0.0\n",
      "SRR18713744\t99.68%\t6274bp\tx0.09\n",
      "SRR18713805\t99.93%\t2511bp\tx0.04\n",
      "SRR18713845\t99.81%\t4101bp\tx0.06\n",
      "SRR18714148\t97.46%\t67966bp\tx1.02\n",
      "SRR18714150\t99.82%\t3366bp\tx0.05\n",
      "SRR18714151\t98.76%\t33984bp\tx0.51\n",
      "SRR18714292\t98.01%\t28647bp\tx0.43\n",
      "SRR18714293\t99.98%\t541bp\tx0.01\n",
      "SRR18714294\t99.97%\t1440bp\tx0.02\n",
      "SRR18714295\t93.3%\t221952bp\tx3.34\n",
      "SRR18714297\t99.93%\t1477bp\tx0.02\n",
      "SRR18714343\t99.99%\t377bp\tx0.01\n",
      "SRR18714529\t99.96%\t870bp\tx0.01\n",
      "SRR18715514\t99.22%\t12599bp\tx0.19\n",
      "SRR18715586\t99.51%\t9071bp\tx0.14\n",
      "SRR18715604\t99.94%\t812bp\tx0.01\n",
      "SRR18715623\t99.69%\t8086bp\tx0.12\n",
      "SRR18715702\t99.66%\t12826bp\tx0.19\n",
      "SRR18715703\t98.72%\t28076bp\tx0.42\n",
      "SRR18715705\t79.17%\t536803bp\tx8.08\n",
      "SRR18715710\t99.99%\t383bp\tx0.01\n",
      "SRR18715723\t99.99%\t432bp\tx0.01\n",
      "SRR18715745\t99.59%\t11681bp\tx0.18\n",
      "SRR18715959\t99.33%\t11462bp\tx0.17\n",
      "SRR18715961\t99.94%\t502bp\tx0.01\n",
      "SRR18715972\t99.96%\t458bp\tx0.01\n",
      "SRR18715973\t98.87%\t17857bp\tx0.27\n",
      "SRR18716456\t99.82%\t5157bp\tx0.08\n",
      "SRR18716457\t99.95%\t602bp\tx0.01\n",
      "SRR18716460\t99.98%\t301bp\tx0.0\n",
      "SRR18716461\t95.94%\t176919bp\tx2.66\n",
      "SRR18716574\t99.53%\t6576bp\tx0.1\n",
      "SRR18716576\t99.98%\t351bp\tx0.01\n",
      "SRR18717068\t99.94%\t184bp\tx0.0\n",
      "SRR18717069\t98.74%\t38971bp\tx0.59\n",
      "SRR18717070\t99.99%\t320bp\tx0.0\n",
      "SRR18717190\t99.96%\t961bp\tx0.01\n",
      "SRR18717195\t99.87%\t1707bp\tx0.03\n",
      "SRR18717200\t99.95%\t715bp\tx0.01\n",
      "SRR18717203\t99.93%\t1443bp\tx0.02\n",
      "SRR18717653\t99.46%\t16112bp\tx0.24\n",
      "SRR18717654\t99.24%\t16015bp\tx0.24\n",
      "SRR18717679\t98.12%\t47884bp\tx0.72\n",
      "SRR18718020\t99.34%\t10902bp\tx0.16\n",
      "SRR18718022\t99.89%\t5522bp\tx0.08\n",
      "SRR18718023\t99.63%\t14321bp\tx0.22\n",
      "SRR18718024\t99.93%\t3066bp\tx0.05\n",
      "SRR18718151\t99.98%\t262bp\tx0.0\n",
      "SRR18718172\t6.53%\t1730592bp\tx26.06\n",
      "SRR18718173\t7.43%\t4972186bp\tx74.88\n",
      "SRR18718174\t12.21%\t2399681bp\tx36.14\n",
      "SRR18718175\t99.92%\t2979bp\tx0.04\n",
      "SRR18718176\t59.79%\t4017659bp\tx60.5\n",
      "SRR18720393\t99.68%\t14177bp\tx0.21\n",
      "SRR18720394\t99.68%\t26102bp\tx0.39\n",
      "SRR18720395\t6.45%\t6202876bp\tx93.41\n",
      "SRR18720396\t49.59%\t8056962bp\tx121.33\n",
      "SRR18720397\t7.15%\t10354576bp\tx155.93\n",
      "SRR18720432\t54.05%\t3059243bp\tx46.07\n",
      "SRR18721578\t99.68%\t10936bp\tx0.16\n",
      "SRR18721579\t1.66%\t15826495bp\tx238.33\n",
      "SRR18721617\t11.07%\t5866341bp\tx88.34\n",
      "SRR18723883\t8.88%\t3065442bp\tx46.16\n",
      "SRR18723969\t23.14%\t4257136bp\tx64.11\n",
      "SRR18723970\t8.86%\t2484384bp\tx37.41\n",
      "SRR18724479\t2.52%\t9948825bp\tx149.82\n",
      "SRR18725089\t99.16%\t44384bp\tx0.67\n",
      "SRR18725091\t99.3%\t27199bp\tx0.41\n",
      "SRR18725094\t98.74%\t33294bp\tx0.5\n",
      "SRR18725098\t7.19%\t7284059bp\tx109.69\n",
      "SRR18725150\t2.93%\t5330101bp\tx80.27\n",
      "SRR18725158\t98.62%\t92991bp\tx1.4\n",
      "SRR18726453\t99.99%\t602bp\tx0.01\n",
      "SRR18726454\t99.65%\t29553bp\tx0.45\n"
     ]
    }
   ],
   "source": [
    "for name in names:\n",
    "    total, zeros, ones, good_10, good_20 = name2stats[name]\n",
    "    print(name, end=\"\\t\")\n",
    "    print(f\"{round(100.*zeros/total, 2)}%\", end=\"\\t\")\n",
    "    print(f\"{total-zeros}bp\", end=\"\\t\")\n",
    "    print(f\"x{round((total-zeros)/number_of_reads_for_x1_coverage,2)}\")"
   ]
  },
  {
   "cell_type": "code",
   "execution_count": 69,
   "id": "7eee4ef4",
   "metadata": {},
   "outputs": [
    {
     "name": "stdout",
     "output_type": "stream",
     "text": [
      "0 1 2 3 4 5 6 7 8 9 10 11 12 13 14 15 16 17 18 19 20 21 22 23 24 25 26 27 28 29 30 31 32 33 34 35 36 37 38 39 40 41 42 43 44 45 46 47 48 49 50 51 52 53 54 55 56 57 58 59 60 61 62 63 64 65 66 67 68 69 70 71 72 73 74 75 76 77 78 79 "
     ]
    }
   ],
   "source": [
    "### Step 7. Seperate target and contamination\n",
    "\n",
    "output_target_folder = \"/media/eternus1/nfs/projects/users/akomissarov/thiomag/target/\"\n",
    "output_contamin_folder = \"/media/eternus1/nfs/projects/users/akomissarov/thiomag/contamin/\"\n",
    "pos_file = os.path.join(output_target_folder, \"%s.target_%s.fastq\")\n",
    "neg_file = os.path.join(output_contamin_folder, \"%s.contam_%s.fastq\")\n",
    "\n",
    "def read_fastq(fh):\n",
    "    d = {\n",
    "        \"header\": fh.readline(),\n",
    "        \"seq\": fh.readline(),\n",
    "        \"strand\": fh.readline(),\n",
    "        \"q\": fh.readline(),\n",
    "    }\n",
    "    return d\n",
    "\n",
    "def write_fastq(d, fw):\n",
    "    fw.write(d[\"header\"])\n",
    "    fw.write(d[\"seq\"])\n",
    "    fw.write(d[\"strand\"])\n",
    "    fw.write(d[\"q\"])\n",
    "\n",
    "for ii, name in enumerate(all_files):\n",
    "    print(ii, end=\" \")\n",
    "    f1, f2 = all_files[name]\n",
    "    stats_file = name2stat_file[name]\n",
    "    \n",
    "    w1 = pos_file % (name, 1)\n",
    "    \n",
    "    if os.path.isfile(w1):\n",
    "        continue\n",
    "    fh_1 = open(f1)\n",
    "    fh_2 = open(f2)    \n",
    "    w2 = pos_file % (name, 2)\n",
    "    n1 = neg_file % (name, 1)\n",
    "    n2 = neg_file % (name, 2)\n",
    "    \n",
    "    fh_s = open(name2stat_file[name])\n",
    "    wh_pos_1 = open(w1, \"w\")\n",
    "    wh_pos_2 = open(w2, \"w\")\n",
    "    wh_neg_1 = open(n1, \"w\")\n",
    "    wh_neg_2 = open(n2, \"w\")\n",
    "    while True:\n",
    "        d = fh_s.readline().strip().split(\"\\t\")\n",
    "        if not d or not d[0]:\n",
    "            break\n",
    "        stat_line = list(map(int, d))\n",
    "        r1 = read_fastq(fh_1)\n",
    "        r2 = read_fastq(fh_2)\n",
    "        if stat_line[1]-stat_line[2] + stat_line[4]-stat_line[5] == 0:\n",
    "            write_fastq(r1, wh_neg_1)\n",
    "            write_fastq(r2, wh_neg_2)\n",
    "        else:\n",
    "            write_fastq(r1, wh_pos_1)\n",
    "            write_fastq(r2, wh_pos_2)\n",
    "        \n",
    "    fh_1.close()\n",
    "    fh_2.close()\n",
    "    wh_pos_1.close()\n",
    "    wh_pos_2.close()\n",
    "    wh_neg_1.close()\n",
    "    wh_neg_2.close()\n",
    "    "
   ]
  }
 ],
 "metadata": {
  "kernelspec": {
   "display_name": "Python 3",
   "language": "python",
   "name": "python3"
  },
  "language_info": {
   "codemirror_mode": {
    "name": "ipython",
    "version": 3
   },
   "file_extension": ".py",
   "mimetype": "text/x-python",
   "name": "python",
   "nbconvert_exporter": "python",
   "pygments_lexer": "ipython3",
   "version": "3.8.2"
  }
 },
 "nbformat": 4,
 "nbformat_minor": 5
}
