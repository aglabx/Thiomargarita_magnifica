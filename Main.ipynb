{
 "cells": [
  {
   "cell_type": "code",
   "execution_count": null,
   "id": "6a8145a2",
   "metadata": {},
   "outputs": [],
   "source": [
    "### Step 1. Split reads\n",
    "\n",
    "import os\n",
    "\n",
    "\n",
    "work_dir = \"/mnt/projects/thiomargarita/samples_data\"\n",
    "\n",
    "for file in os.listdir(work_dir):\n",
    "    sample_name = file[0:11] # file = sample_name + .fastq\n",
    "    \n",
    "    os.system(f\"fastq-dump --split-files {sample_name}\")\n",
    "    \n",
    "    os.system(f\"mkdir {work_dir}/{sample_name}\")\n",
    "    os.system(f\"mv {work_dir}/{sample_name}*.fastq {work_dir}/{sample_name}\")"
   ]
  },
  {
   "cell_type": "code",
   "execution_count": null,
   "id": "fe05d4e8",
   "metadata": {},
   "outputs": [],
   "source": [
    "### Step 2. Reads quality control before trimming\n",
    "\n",
    "import os\n",
    "\n",
    "\n",
    "work_dir = \"/mnt/projects/thiomargarita/samples_data\"\n",
    "\n",
    "for sample_name in os.listdir(work_dir):\n",
    "    for file in os.listdir(os.path.join(work_dir, sample_name)):\n",
    "        os.system(f\"fastqc -t 32 {sample_name}\")"
   ]
  },
  {
   "cell_type": "code",
   "execution_count": null,
   "id": "6946f1ab",
   "metadata": {},
   "outputs": [],
   "source": [
    "### Step 3. Trimming\n",
    "\n",
    "import os\n",
    "\n",
    "\n",
    "work_dir = \"/mnt/projects/thiomargarita/samples_data\"\n",
    "\n",
    "for sample_name in os.listdir(work_dir):\n",
    "    os.system(\"v2trim\" + \n",
    "              f\"-1 {work_dir}/{sample_name}/{sample_name}_1.fastq\" + \n",
    "              f\"-2 {work_dir}/{sample_name}/{sample_name}_2.fastq\" + \n",
    "              \"-t 32\")"
   ]
  },
  {
   "cell_type": "code",
   "execution_count": null,
   "id": "531cef36",
   "metadata": {},
   "outputs": [],
   "source": [
    "### Step 4. Reads quality control after trimming\n",
    "\n",
    "'''\n",
    "moved all raw data in each folder to SRR*/raw\n",
    "moved all fastqc results in each folder to SRR*/fastqc_results\n",
    "'''\n"
   ]
  },
  {
   "cell_type": "code",
   "execution_count": null,
   "id": "13871ca6",
   "metadata": {},
   "outputs": [],
   "source": [
    "### Step 5. Assembly\n",
    "\n",
    "import os\n",
    "\n",
    "\n",
    "work_dir = \"/mnt/projects/thiomargarita/samples_data\"\n",
    "\n",
    "for sample_name in os.listdir(work_dir):\n",
    "    os.system(f\"spades.py --meta -o {work_dir}/{sample_name}/spades_results\" + \n",
    "              f\"-1 {work_dir}/{sample_name}/{sample_name}_trim_1.fastq\" + \n",
    "              f\"-2 {work_dir}/{sample_name}/{sample_name}_trim_2.fastq\" + \n",
    "              \"-t 32 -k 23,67,99,125\")"
   ]
  },
  {
   "cell_type": "code",
   "execution_count": null,
   "id": "f6ea70e7",
   "metadata": {},
   "outputs": [],
   "source": [
    "### Step 6. Comparison of reads and assemblies\n",
    "\n",
    "'''\n",
    "multiqc, quast -l\n",
    "'''"
   ]
  },
  {
   "cell_type": "code",
   "execution_count": null,
   "id": "8e92812f",
   "metadata": {},
   "outputs": [],
   "source": [
    "### Step 7. Annotation\n",
    "\n",
    "import os\n",
    "\n",
    "\n",
    "!export EGGNOG_DATA_DIR=/mnt/projects/users/merirut/software/miniconda3/eggnog-mapper-data\n",
    "work_dir = \"/mnt/projects/thiomargarita/samples_data\"\n",
    "\n",
    "for sample_name in os.listdir(work_dir):\n",
    "        os.system(f\"prokka --outdir {work_dir}/{sample_name}/prokka_results\" + \n",
    "                  f\"--prefix {sample_name} --metagenome --locustag gene --cpus 32\" + \n",
    "                  f\"{work_dir}/{sample_name}/spades_results/scaffolds.fasta\")\n",
    "        \n",
    "        os.system(f\"emapper.py -i {work_dir}/{sample_name}/prokka_results/{sample_name}.faa\" + \n",
    "                  f\"--cpu 32 --output sample_name --output_dir {work_dir}/{sample_name}/emapper_results\")"
   ]
  },
  {
   "cell_type": "code",
   "execution_count": null,
   "id": "0c29530b",
   "metadata": {},
   "outputs": [],
   "source": [
    "### Step 8. Extract rRNAs and align them to the reference genome\n",
    "import os\n",
    "\n",
    "\n",
    "work_dir = \"/mnt/projects/thiomargarita/samples_data\"\n",
    "\n",
    "for sample_name in os.listdir(work_dir):\n",
    "    os.system(f\"barrnap {work_dir}/spades_results/scaffolds.fasta\" +\n",
    "              f\"--threads 32 --outseq {work_dir}/{sample_name}/{sample_name}_rRNAs.fasta\")\n",
    "    \n",
    "    outfile = f\"{work_dir}/{sample_name}/{sample_name}_blast.txt\"\n",
    "    os.system(f\"blastn -query {work_dir}/{sample_name}/{sample_name}_rRNAs.fasta\" + \n",
    "              f\"-subject {subject_name} -out {outfile}\")"
   ]
  },
  {
   "cell_type": "code",
   "execution_count": null,
   "id": "62018a28",
   "metadata": {},
   "outputs": [],
   "source": [
    "### Step 9. Create \"pangenome\"\n",
    "\n",
    "import os\n",
    "\n",
    "\n",
    "dir = \"/mnt/projects/thiomargarita/samples_data\"\n",
    "fasta_file = open(\"/mnt/projects/thiomargarita/protein_pangenome.fasta\", 'w')\n",
    "\n",
    "for sample_name in os.listdir(dir):\n",
    "    \n",
    "    try:\n",
    "        infile = open(f\"{dir}/{sample_name}/prokka_results/{sample_name}.faa\", 'r')\n",
    "\n",
    "        for line in infile:\n",
    "\n",
    "            if line[0] == '>':\n",
    "                fasta_file.write('>' + f\"{sample_name}_\" + line[1::].replace(' ', '_'))\n",
    "\n",
    "            else:\n",
    "                fasta_file.write(line)\n",
    "\n",
    "        infile.close()\n",
    "    \n",
    "    except FileNotFoundError:\n",
    "        pass\n",
    "\n",
    "fasta_file.close()"
   ]
  },
  {
   "cell_type": "code",
   "execution_count": null,
   "id": "0953f151",
   "metadata": {},
   "outputs": [],
   "source": [
    "### Step 10. Clustering\n",
    "\n",
    "!mmseqs easy-cluster protein_pangenome.fasta clustered_pangenome tmp"
   ]
  }
 ],
 "metadata": {
  "kernelspec": {
   "display_name": "Python 3 (ipykernel)",
   "language": "python",
   "name": "python3"
  },
  "language_info": {
   "codemirror_mode": {
    "name": "ipython",
    "version": 3
   },
   "file_extension": ".py",
   "mimetype": "text/x-python",
   "name": "python",
   "nbconvert_exporter": "python",
   "pygments_lexer": "ipython3",
   "version": "3.10.9"
  }
 },
 "nbformat": 4,
 "nbformat_minor": 5
}
